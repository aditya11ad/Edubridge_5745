{
 "cells": [
  {
   "cell_type": "markdown",
   "metadata": {},
   "source": [
    "# 2 python_ Strings"
   ]
  },
  {
   "cell_type": "markdown",
   "metadata": {},
   "source": [
    "### Strings - Index"
   ]
  },
  {
   "cell_type": "markdown",
   "metadata": {},
   "source": [
    "Strings are treated as contiguous set of characters. Strings can be enclosed in single or double quotes.\n",
    "\n",
    "The index starts from zero. Hence to print the first character of the string name, we use the code\n",
    "name[0]"
   ]
  },
  {
   "cell_type": "code",
   "execution_count": 4,
   "metadata": {},
   "outputs": [
    {
     "name": "stdout",
     "output_type": "stream",
     "text": [
      "qw\n",
      "q\n"
     ]
    }
   ],
   "source": [
    "name = input()\n",
    "print(name[0])"
   ]
  },
  {
   "cell_type": "markdown",
   "metadata": {},
   "source": [
    "### Strings - Slice operator"
   ]
  },
  {
   "cell_type": "markdown",
   "metadata": {},
   "source": [
    "The slice operator can be used to print from a given index to another index.\n",
    "\n",
    "The below code prints from 3rd to 6th character of the string value collegename. \n",
    "\n",
    "(As the index starts from zero, to print the 3rd character the index will be 2)."
   ]
  },
  {
   "cell_type": "code",
   "execution_count": 6,
   "metadata": {},
   "outputs": [
    {
     "name": "stdout",
     "output_type": "stream",
     "text": [
      "indore institute\n",
      "dore\n"
     ]
    }
   ],
   "source": [
    "collegename = input()\n",
    "print(collegename[2:6])"
   ]
  },
  {
   "cell_type": "markdown",
   "metadata": {},
   "source": [
    "The slice operator can be used to print from the begining to a given index.\n",
    "\n",
    "The below program prints first 3 character of the string. \n",
    "\n",
    "Please NOTE that there is no index before \" : \""
   ]
  },
  {
   "cell_type": "code",
   "execution_count": 11,
   "metadata": {},
   "outputs": [
    {
     "name": "stdout",
     "output_type": "stream",
     "text": [
      "dadsadas \n",
      "dad\n"
     ]
    }
   ],
   "source": [
    "collegename = input()\n",
    "print(collegename[:3])"
   ]
  },
  {
   "cell_type": "markdown",
   "metadata": {},
   "source": [
    "The slice operator can be used to print from a given index till the end of the string.\n",
    "\n",
    "The below program prints from 3rd character till the end of the string value name. \n",
    "\n",
    "Please NOTE that there is no index after :"
   ]
  },
  {
   "cell_type": "code",
   "execution_count": 10,
   "metadata": {},
   "outputs": [
    {
     "name": "stdout",
     "output_type": "stream",
     "text": [
      "asdsafasf \n",
      "dsafasf \n"
     ]
    }
   ],
   "source": [
    "name = input()\n",
    "print(name[2:])"
   ]
  },
  {
   "cell_type": "markdown",
   "metadata": {},
   "source": [
    "### String - Length"
   ]
  },
  {
   "cell_type": "markdown",
   "metadata": {},
   "source": [
    "The len() function can be used to find the length of the string as shown below."
   ]
  },
  {
   "cell_type": "code",
   "execution_count": 12,
   "metadata": {},
   "outputs": [
    {
     "name": "stdout",
     "output_type": "stream",
     "text": [
      "dadsadsad\n",
      "9\n"
     ]
    }
   ],
   "source": [
    "name = input()\n",
    "print(len(name))"
   ]
  },
  {
   "cell_type": "markdown",
   "metadata": {},
   "source": [
    "### String - Concatenation"
   ]
  },
  {
   "cell_type": "markdown",
   "metadata": {},
   "source": [
    "**+ operator** can be used to concatenate string values.\n",
    "\n",
    "The below program concatenates the values in firstname and lastname and prints it as the output."
   ]
  },
  {
   "cell_type": "code",
   "execution_count": 23,
   "metadata": {},
   "outputs": [
    {
     "name": "stdout",
     "output_type": "stream",
     "text": [
      "aditya\n",
      "nagdiya\n",
      "adityanagdiya\n"
     ]
    }
   ],
   "source": [
    "firstname = input()\n",
    "lastname = input()\n",
    "print(firstname+lastname)"
   ]
  },
  {
   "cell_type": "code",
   "execution_count": 24,
   "metadata": {},
   "outputs": [
    {
     "name": "stdout",
     "output_type": "stream",
     "text": [
      "aditya\n",
      "nagdiya\n",
      "aditya nagdiya\n"
     ]
    }
   ],
   "source": [
    "firstname = input()\n",
    "lastname = input()\n",
    "print(firstname,lastname)"
   ]
  },
  {
   "cell_type": "code",
   "execution_count": 26,
   "metadata": {},
   "outputs": [
    {
     "name": "stdout",
     "output_type": "stream",
     "text": [
      "Sachin Tendulkar\n"
     ]
    }
   ],
   "source": [
    "firstname = \"Sachin \"\n",
    "lastname = \"Tendulkar\"\n",
    "print(firstname+lastname)"
   ]
  },
  {
   "cell_type": "markdown",
   "metadata": {},
   "source": [
    "use strip() function to remove space:"
   ]
  },
  {
   "cell_type": "code",
   "execution_count": 29,
   "metadata": {},
   "outputs": [
    {
     "name": "stdout",
     "output_type": "stream",
     "text": [
      "SachinTendulkar\n"
     ]
    }
   ],
   "source": [
    "firstname = \"Sachin \"\n",
    "lastname = \"Tendulkar\"\n",
    "print(firstname.strip()+lastname)"
   ]
  },
  {
   "cell_type": "markdown",
   "metadata": {},
   "source": [
    "### String - Upper and Lower Case"
   ]
  },
  {
   "cell_type": "markdown",
   "metadata": {},
   "source": [
    "upper and lower methods can be used to convert all the characters in a string to upper case or lower\n",
    "case respectively.\n",
    "\n",
    "The below program accepts a string value and prints all characters in upper case."
   ]
  },
  {
   "cell_type": "code",
   "execution_count": 30,
   "metadata": {},
   "outputs": [
    {
     "name": "stdout",
     "output_type": "stream",
     "text": [
      "adsads\n",
      "ADSADS\n"
     ]
    }
   ],
   "source": [
    "inputstring = input()\n",
    "print (inputstring.upper())"
   ]
  },
  {
   "cell_type": "markdown",
   "metadata": {},
   "source": [
    "### String - with jump"
   ]
  },
  {
   "cell_type": "code",
   "execution_count": 64,
   "metadata": {},
   "outputs": [
    {
     "name": "stdout",
     "output_type": "stream",
     "text": [
      "aiyngia\n"
     ]
    }
   ],
   "source": [
    "#every 2nd char of string\n",
    "inputstring = \"adityanagdiya\"\n",
    "print (inputstring[::2])"
   ]
  },
  {
   "cell_type": "markdown",
   "metadata": {},
   "source": [
    "### String - Reverse"
   ]
  },
  {
   "cell_type": "markdown",
   "metadata": {},
   "source": [
    "Reversing the string can be done by using the slice operator to go one step back from the end by specifying -1.\n",
    "\n",
    "The below program accepts a string value and prints the reverse value.\n"
   ]
  },
  {
   "cell_type": "code",
   "execution_count": 32,
   "metadata": {},
   "outputs": [
    {
     "name": "stdout",
     "output_type": "stream",
     "text": [
      "adsdasf\n",
      "fsadsda\n"
     ]
    }
   ],
   "source": [
    "inputstring = input()\n",
    "print (inputstring[::-1])"
   ]
  },
  {
   "cell_type": "code",
   "execution_count": 43,
   "metadata": {},
   "outputs": [
    {
     "name": "stdout",
     "output_type": "stream",
     "text": [
      "aytida\n"
     ]
    }
   ],
   "source": [
    "inputstring = \"aditya\"\n",
    "print (inputstring[::-1])"
   ]
  },
  {
   "cell_type": "code",
   "execution_count": 62,
   "metadata": {},
   "outputs": [
    {
     "name": "stdout",
     "output_type": "stream",
     "text": [
      "ad\n",
      "na\n"
     ]
    },
    {
     "data": {
      "text/plain": [
       "'anda'"
      ]
     },
     "execution_count": 62,
     "metadata": {},
     "output_type": "execute_result"
    }
   ],
   "source": [
    "x= input()\n",
    "y= input()\n",
    "(x+y)[::-1]"
   ]
  },
  {
   "cell_type": "markdown",
   "metadata": {},
   "source": [
    "### String - Replace\n"
   ]
  },
  {
   "cell_type": "markdown",
   "metadata": {},
   "source": [
    "replace method helps in replacing a specific string value (one or more characters) with another string\n",
    "value.\n",
    "\n",
    "As an example, the below code replaces a with z in the input string value. (If the input is test, the ouput is\n",
    "zesz)."
   ]
  },
  {
   "cell_type": "code",
   "execution_count": 66,
   "metadata": {},
   "outputs": [
    {
     "name": "stdout",
     "output_type": "stream",
     "text": [
      "aditya\n",
      "adizya\n"
     ]
    }
   ],
   "source": [
    "inputstring = input()\n",
    "print (inputstring.replace(\"t\",\"z\"))"
   ]
  },
  {
   "cell_type": "markdown",
   "metadata": {},
   "source": [
    "### String - swapcase"
   ]
  },
  {
   "cell_type": "markdown",
   "metadata": {},
   "source": [
    "swapcase method helps in changing upper case letters to lower case and lower case letters to upper case.\n",
    "As an example, if the input to the program given below is AbCDeF, then the output is aBcdEf"
   ]
  },
  {
   "cell_type": "code",
   "execution_count": 1,
   "metadata": {},
   "outputs": [
    {
     "name": "stdout",
     "output_type": "stream",
     "text": [
      "aSd\n",
      "AsD\n"
     ]
    }
   ],
   "source": [
    "inputstr = input()\n",
    "print (inputstr.swapcase())"
   ]
  },
  {
   "cell_type": "markdown",
   "metadata": {},
   "source": [
    "Complete the program so that accepts an input string value and swaps the case from the 3rd character.\n",
    "(Assume the input string is of length > 3)\n"
   ]
  },
  {
   "cell_type": "code",
   "execution_count": 8,
   "metadata": {},
   "outputs": [
    {
     "name": "stdout",
     "output_type": "stream",
     "text": [
      "asdasdasdas\n",
      "asDASDASDAS\n"
     ]
    }
   ],
   "source": [
    "inputstr = input()\n",
    "print (inputstr[:2]+inputstr[2:].swapcase())"
   ]
  },
  {
   "cell_type": "markdown",
   "metadata": {},
   "source": [
    "### String - join"
   ]
  },
  {
   "cell_type": "markdown",
   "metadata": {},
   "source": [
    "join method helps in returning a string where the string values in an input sequence are joined by a separator.\n",
    "As an example, if the input to the program given below is abc, the output is a-b-c"
   ]
  },
  {
   "cell_type": "code",
   "execution_count": 9,
   "metadata": {},
   "outputs": [
    {
     "name": "stdout",
     "output_type": "stream",
     "text": [
      "asasa\n",
      "a-s-a-s-a\n"
     ]
    }
   ],
   "source": [
    "inputstring = input()\n",
    "sep=\"-\"\n",
    "print (sep.join(inputstring))"
   ]
  },
  {
   "cell_type": "markdown",
   "metadata": {},
   "source": [
    "Complete the program so that accepts an input string value and separates the characters in the string\n",
    "using colon.\n",
    "- If the input is aeiou, the output must be a:e:i:o:u"
   ]
  },
  {
   "cell_type": "code",
   "execution_count": 10,
   "metadata": {},
   "outputs": [
    {
     "name": "stdout",
     "output_type": "stream",
     "text": [
      "asdas\n",
      "a:s:d:a:s\n"
     ]
    }
   ],
   "source": [
    "inputstring = input()\n",
    "sep=\":\"\n",
    "print (sep.join(inputstring))"
   ]
  },
  {
   "cell_type": "code",
   "execution_count": null,
   "metadata": {},
   "outputs": [],
   "source": []
  },
  {
   "cell_type": "code",
   "execution_count": null,
   "metadata": {},
   "outputs": [],
   "source": []
  },
  {
   "cell_type": "code",
   "execution_count": null,
   "metadata": {},
   "outputs": [],
   "source": []
  },
  {
   "cell_type": "code",
   "execution_count": null,
   "metadata": {},
   "outputs": [],
   "source": []
  },
  {
   "cell_type": "code",
   "execution_count": null,
   "metadata": {},
   "outputs": [],
   "source": []
  },
  {
   "cell_type": "code",
   "execution_count": null,
   "metadata": {},
   "outputs": [],
   "source": []
  }
 ],
 "metadata": {
  "kernelspec": {
   "display_name": "Python 3",
   "language": "python",
   "name": "python3"
  },
  "language_info": {
   "codemirror_mode": {
    "name": "ipython",
    "version": 3
   },
   "file_extension": ".py",
   "mimetype": "text/x-python",
   "name": "python",
   "nbconvert_exporter": "python",
   "pygments_lexer": "ipython3",
   "version": "3.7.6"
  }
 },
 "nbformat": 4,
 "nbformat_minor": 4
}
