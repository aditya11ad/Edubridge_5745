{
 "cells": [
  {
   "cell_type": "code",
   "execution_count": 13,
   "metadata": {},
   "outputs": [],
   "source": [
    "import pandas as pd"
   ]
  },
  {
   "cell_type": "code",
   "execution_count": 14,
   "metadata": {},
   "outputs": [
    {
     "name": "stdout",
     "output_type": "stream",
     "text": [
      "(891, 12)\n"
     ]
    },
    {
     "data": {
      "text/html": [
       "<div>\n",
       "<style scoped>\n",
       "    .dataframe tbody tr th:only-of-type {\n",
       "        vertical-align: middle;\n",
       "    }\n",
       "\n",
       "    .dataframe tbody tr th {\n",
       "        vertical-align: top;\n",
       "    }\n",
       "\n",
       "    .dataframe thead th {\n",
       "        text-align: right;\n",
       "    }\n",
       "</style>\n",
       "<table border=\"1\" class=\"dataframe\">\n",
       "  <thead>\n",
       "    <tr style=\"text-align: right;\">\n",
       "      <th></th>\n",
       "      <th>PassengerId</th>\n",
       "      <th>Survived</th>\n",
       "      <th>Pclass</th>\n",
       "      <th>Name</th>\n",
       "      <th>Sex</th>\n",
       "      <th>Age</th>\n",
       "      <th>SibSp</th>\n",
       "      <th>Parch</th>\n",
       "      <th>Ticket</th>\n",
       "      <th>Fare</th>\n",
       "      <th>Cabin</th>\n",
       "      <th>Embarked</th>\n",
       "    </tr>\n",
       "  </thead>\n",
       "  <tbody>\n",
       "    <tr>\n",
       "      <th>0</th>\n",
       "      <td>1</td>\n",
       "      <td>0</td>\n",
       "      <td>3</td>\n",
       "      <td>Braund, Mr. Owen Harris</td>\n",
       "      <td>male</td>\n",
       "      <td>22.0</td>\n",
       "      <td>1</td>\n",
       "      <td>0</td>\n",
       "      <td>A/5 21171</td>\n",
       "      <td>7.2500</td>\n",
       "      <td>NaN</td>\n",
       "      <td>S</td>\n",
       "    </tr>\n",
       "    <tr>\n",
       "      <th>1</th>\n",
       "      <td>2</td>\n",
       "      <td>1</td>\n",
       "      <td>1</td>\n",
       "      <td>Cumings, Mrs. John Bradley (Florence Briggs Th...</td>\n",
       "      <td>female</td>\n",
       "      <td>38.0</td>\n",
       "      <td>1</td>\n",
       "      <td>0</td>\n",
       "      <td>PC 17599</td>\n",
       "      <td>71.2833</td>\n",
       "      <td>C85</td>\n",
       "      <td>C</td>\n",
       "    </tr>\n",
       "    <tr>\n",
       "      <th>2</th>\n",
       "      <td>3</td>\n",
       "      <td>1</td>\n",
       "      <td>3</td>\n",
       "      <td>Heikkinen, Miss. Laina</td>\n",
       "      <td>female</td>\n",
       "      <td>26.0</td>\n",
       "      <td>0</td>\n",
       "      <td>0</td>\n",
       "      <td>STON/O2. 3101282</td>\n",
       "      <td>7.9250</td>\n",
       "      <td>NaN</td>\n",
       "      <td>S</td>\n",
       "    </tr>\n",
       "  </tbody>\n",
       "</table>\n",
       "</div>"
      ],
      "text/plain": [
       "   PassengerId  Survived  Pclass  \\\n",
       "0            1         0       3   \n",
       "1            2         1       1   \n",
       "2            3         1       3   \n",
       "\n",
       "                                                Name     Sex   Age  SibSp  \\\n",
       "0                            Braund, Mr. Owen Harris    male  22.0      1   \n",
       "1  Cumings, Mrs. John Bradley (Florence Briggs Th...  female  38.0      1   \n",
       "2                             Heikkinen, Miss. Laina  female  26.0      0   \n",
       "\n",
       "   Parch            Ticket     Fare Cabin Embarked  \n",
       "0      0         A/5 21171   7.2500   NaN        S  \n",
       "1      0          PC 17599  71.2833   C85        C  \n",
       "2      0  STON/O2. 3101282   7.9250   NaN        S  "
      ]
     },
     "execution_count": 14,
     "metadata": {},
     "output_type": "execute_result"
    }
   ],
   "source": [
    "df_train=pd.read_csv('titanicData.csv')\n",
    "print(df_train.shape)\n",
    "df_train.head(3)"
   ]
  },
  {
   "cell_type": "code",
   "execution_count": 17,
   "metadata": {},
   "outputs": [
    {
     "data": {
      "text/plain": [
       "PassengerId      int64\n",
       "Survived         int64\n",
       "Pclass           int64\n",
       "Name            object\n",
       "Sex             object\n",
       "Age            float64\n",
       "SibSp            int64\n",
       "Parch            int64\n",
       "Ticket          object\n",
       "Fare           float64\n",
       "Cabin           object\n",
       "Embarked        object\n",
       "dtype: object"
      ]
     },
     "execution_count": 17,
     "metadata": {},
     "output_type": "execute_result"
    }
   ],
   "source": [
    "df_train.dtypes"
   ]
  },
  {
   "cell_type": "code",
   "execution_count": 18,
   "metadata": {},
   "outputs": [
    {
     "data": {
      "text/plain": [
       "pandas.core.frame.DataFrame"
      ]
     },
     "execution_count": 18,
     "metadata": {},
     "output_type": "execute_result"
    }
   ],
   "source": [
    "type(df_train)"
   ]
  },
  {
   "cell_type": "code",
   "execution_count": 44,
   "metadata": {},
   "outputs": [
    {
     "data": {
      "text/plain": [
       "0    549\n",
       "1    342\n",
       "Name: Survived, dtype: int64"
      ]
     },
     "execution_count": 44,
     "metadata": {},
     "output_type": "execute_result"
    }
   ],
   "source": [
    "df_train.Survived.value_counts()"
   ]
  },
  {
   "cell_type": "code",
   "execution_count": 46,
   "metadata": {},
   "outputs": [
    {
     "data": {
      "text/plain": [
       "S    644\n",
       "C    168\n",
       "Q     77\n",
       "Name: Embarked, dtype: int64"
      ]
     },
     "execution_count": 46,
     "metadata": {},
     "output_type": "execute_result"
    }
   ],
   "source": [
    "df_train.Embarked.value_counts()\n",
    "# GK:  boarding ponts:       'Southampton', england      'Cherbourg', france          'Queenstown' (cobh), ireland"
   ]
  },
  {
   "cell_type": "code",
   "execution_count": 47,
   "metadata": {},
   "outputs": [
    {
     "data": {
      "text/plain": [
       "PassengerId      0\n",
       "Survived         0\n",
       "Pclass           0\n",
       "Name             0\n",
       "Sex              0\n",
       "Age            177\n",
       "SibSp            0\n",
       "Parch            0\n",
       "Ticket           0\n",
       "Fare             0\n",
       "Cabin          687\n",
       "Embarked         2\n",
       "dtype: int64"
      ]
     },
     "execution_count": 47,
     "metadata": {},
     "output_type": "execute_result"
    }
   ],
   "source": [
    "df_train.isna().sum()"
   ]
  },
  {
   "cell_type": "code",
   "execution_count": 48,
   "metadata": {},
   "outputs": [
    {
     "data": {
      "text/plain": [
       "0      False\n",
       "1      False\n",
       "2      False\n",
       "3      False\n",
       "4      False\n",
       "       ...  \n",
       "886    False\n",
       "887    False\n",
       "888     True\n",
       "889    False\n",
       "890    False\n",
       "Name: Age, Length: 891, dtype: bool"
      ]
     },
     "execution_count": 48,
     "metadata": {},
     "output_type": "execute_result"
    }
   ],
   "source": [
    "pd.isnull(df_train['Age'])"
   ]
  },
  {
   "cell_type": "code",
   "execution_count": 29,
   "metadata": {},
   "outputs": [
    {
     "data": {
      "text/html": [
       "<div>\n",
       "<style scoped>\n",
       "    .dataframe tbody tr th:only-of-type {\n",
       "        vertical-align: middle;\n",
       "    }\n",
       "\n",
       "    .dataframe tbody tr th {\n",
       "        vertical-align: top;\n",
       "    }\n",
       "\n",
       "    .dataframe thead th {\n",
       "        text-align: right;\n",
       "    }\n",
       "</style>\n",
       "<table border=\"1\" class=\"dataframe\">\n",
       "  <thead>\n",
       "    <tr style=\"text-align: right;\">\n",
       "      <th></th>\n",
       "      <th>Survived</th>\n",
       "      <th>Pclass</th>\n",
       "      <th>Sex</th>\n",
       "      <th>Age</th>\n",
       "      <th>SibSp</th>\n",
       "      <th>Parch</th>\n",
       "      <th>Fare</th>\n",
       "      <th>Embarked</th>\n",
       "    </tr>\n",
       "  </thead>\n",
       "  <tbody>\n",
       "    <tr>\n",
       "      <th>0</th>\n",
       "      <td>0</td>\n",
       "      <td>3</td>\n",
       "      <td>male</td>\n",
       "      <td>22.0</td>\n",
       "      <td>1</td>\n",
       "      <td>0</td>\n",
       "      <td>7.2500</td>\n",
       "      <td>S</td>\n",
       "    </tr>\n",
       "    <tr>\n",
       "      <th>1</th>\n",
       "      <td>1</td>\n",
       "      <td>1</td>\n",
       "      <td>female</td>\n",
       "      <td>38.0</td>\n",
       "      <td>1</td>\n",
       "      <td>0</td>\n",
       "      <td>71.2833</td>\n",
       "      <td>C</td>\n",
       "    </tr>\n",
       "    <tr>\n",
       "      <th>2</th>\n",
       "      <td>1</td>\n",
       "      <td>3</td>\n",
       "      <td>female</td>\n",
       "      <td>26.0</td>\n",
       "      <td>0</td>\n",
       "      <td>0</td>\n",
       "      <td>7.9250</td>\n",
       "      <td>S</td>\n",
       "    </tr>\n",
       "  </tbody>\n",
       "</table>\n",
       "</div>"
      ],
      "text/plain": [
       "   Survived  Pclass     Sex   Age  SibSp  Parch     Fare Embarked\n",
       "0         0       3    male  22.0      1      0   7.2500        S\n",
       "1         1       1  female  38.0      1      0  71.2833        C\n",
       "2         1       3  female  26.0      0      0   7.9250        S"
      ]
     },
     "execution_count": 29,
     "metadata": {},
     "output_type": "execute_result"
    }
   ],
   "source": [
    "df_train=df_train.drop(['Cabin','PassengerId','Name','Ticket'],axis=1)\n",
    "df_train.head(3)"
   ]
  },
  {
   "cell_type": "code",
   "execution_count": 51,
   "metadata": {},
   "outputs": [
    {
     "data": {
      "text/plain": [
       "29.69911764705882"
      ]
     },
     "execution_count": 51,
     "metadata": {},
     "output_type": "execute_result"
    }
   ],
   "source": [
    "df_train['Age'].mean()          "
   ]
  },
  {
   "cell_type": "code",
   "execution_count": 52,
   "metadata": {},
   "outputs": [
    {
     "data": {
      "text/plain": [
       "Pclass\n",
       "1    38.233441\n",
       "2    29.877630\n",
       "3    25.140620\n",
       "Name: Age, dtype: float64"
      ]
     },
     "execution_count": 52,
     "metadata": {},
     "output_type": "execute_result"
    }
   ],
   "source": [
    "df_train.groupby('Pclass')['Age'].mean()              #this is more precise"
   ]
  },
  {
   "cell_type": "code",
   "execution_count": 56,
   "metadata": {},
   "outputs": [],
   "source": [
    "def age_approx(cols):\n",
    "    age=cols[0]\n",
    "    pclass=cols[1]\n",
    "    if pd.isnull(age):\n",
    "        if pclass==1:\n",
    "            return 38\n",
    "        elif pclass==2:\n",
    "            return 29\n",
    "        else:\n",
    "            return 25\n",
    "    else:\n",
    "        return age"
   ]
  },
  {
   "cell_type": "code",
   "execution_count": 57,
   "metadata": {},
   "outputs": [],
   "source": [
    "df_train['Age']=df_train[['Age','Pclass']].apply(age_approx, axis=1)"
   ]
  },
  {
   "cell_type": "code",
   "execution_count": 58,
   "metadata": {},
   "outputs": [
    {
     "data": {
      "text/plain": [
       "Survived    0\n",
       "Pclass      0\n",
       "Sex         0\n",
       "Age         0\n",
       "SibSp       0\n",
       "Parch       0\n",
       "Fare        0\n",
       "Embarked    2\n",
       "dtype: int64"
      ]
     },
     "execution_count": 58,
     "metadata": {},
     "output_type": "execute_result"
    }
   ],
   "source": [
    "df_train.isna().sum()"
   ]
  },
  {
   "cell_type": "code",
   "execution_count": 59,
   "metadata": {},
   "outputs": [
    {
     "data": {
      "text/plain": [
       "Survived    0\n",
       "Pclass      0\n",
       "Sex         0\n",
       "Age         0\n",
       "SibSp       0\n",
       "Parch       0\n",
       "Fare        0\n",
       "Embarked    0\n",
       "dtype: int64"
      ]
     },
     "execution_count": 59,
     "metadata": {},
     "output_type": "execute_result"
    }
   ],
   "source": [
    "df_train.dropna(inplace=True)\n",
    "df_train.isna().sum()"
   ]
  },
  {
   "cell_type": "code",
   "execution_count": 60,
   "metadata": {},
   "outputs": [
    {
     "data": {
      "text/html": [
       "<div>\n",
       "<style scoped>\n",
       "    .dataframe tbody tr th:only-of-type {\n",
       "        vertical-align: middle;\n",
       "    }\n",
       "\n",
       "    .dataframe tbody tr th {\n",
       "        vertical-align: top;\n",
       "    }\n",
       "\n",
       "    .dataframe thead th {\n",
       "        text-align: right;\n",
       "    }\n",
       "</style>\n",
       "<table border=\"1\" class=\"dataframe\">\n",
       "  <thead>\n",
       "    <tr style=\"text-align: right;\">\n",
       "      <th></th>\n",
       "      <th>Survived</th>\n",
       "      <th>Pclass</th>\n",
       "      <th>Sex</th>\n",
       "      <th>Age</th>\n",
       "      <th>SibSp</th>\n",
       "      <th>Parch</th>\n",
       "      <th>Fare</th>\n",
       "      <th>Embarked</th>\n",
       "    </tr>\n",
       "  </thead>\n",
       "  <tbody>\n",
       "    <tr>\n",
       "      <th>0</th>\n",
       "      <td>0</td>\n",
       "      <td>3</td>\n",
       "      <td>male</td>\n",
       "      <td>22.0</td>\n",
       "      <td>1</td>\n",
       "      <td>0</td>\n",
       "      <td>7.2500</td>\n",
       "      <td>S</td>\n",
       "    </tr>\n",
       "    <tr>\n",
       "      <th>1</th>\n",
       "      <td>1</td>\n",
       "      <td>1</td>\n",
       "      <td>female</td>\n",
       "      <td>38.0</td>\n",
       "      <td>1</td>\n",
       "      <td>0</td>\n",
       "      <td>71.2833</td>\n",
       "      <td>C</td>\n",
       "    </tr>\n",
       "    <tr>\n",
       "      <th>2</th>\n",
       "      <td>1</td>\n",
       "      <td>3</td>\n",
       "      <td>female</td>\n",
       "      <td>26.0</td>\n",
       "      <td>0</td>\n",
       "      <td>0</td>\n",
       "      <td>7.9250</td>\n",
       "      <td>S</td>\n",
       "    </tr>\n",
       "  </tbody>\n",
       "</table>\n",
       "</div>"
      ],
      "text/plain": [
       "   Survived  Pclass     Sex   Age  SibSp  Parch     Fare Embarked\n",
       "0         0       3    male  22.0      1      0   7.2500        S\n",
       "1         1       1  female  38.0      1      0  71.2833        C\n",
       "2         1       3  female  26.0      0      0   7.9250        S"
      ]
     },
     "execution_count": 60,
     "metadata": {},
     "output_type": "execute_result"
    }
   ],
   "source": [
    "df_train.head(3)"
   ]
  },
  {
   "cell_type": "code",
   "execution_count": 61,
   "metadata": {},
   "outputs": [
    {
     "data": {
      "text/html": [
       "<div>\n",
       "<style scoped>\n",
       "    .dataframe tbody tr th:only-of-type {\n",
       "        vertical-align: middle;\n",
       "    }\n",
       "\n",
       "    .dataframe tbody tr th {\n",
       "        vertical-align: top;\n",
       "    }\n",
       "\n",
       "    .dataframe thead th {\n",
       "        text-align: right;\n",
       "    }\n",
       "</style>\n",
       "<table border=\"1\" class=\"dataframe\">\n",
       "  <thead>\n",
       "    <tr style=\"text-align: right;\">\n",
       "      <th></th>\n",
       "      <th>Survived</th>\n",
       "      <th>Pclass</th>\n",
       "      <th>Age</th>\n",
       "      <th>SibSp</th>\n",
       "      <th>Parch</th>\n",
       "      <th>Fare</th>\n",
       "      <th>Sex_female</th>\n",
       "      <th>Sex_male</th>\n",
       "      <th>Embarked_C</th>\n",
       "      <th>Embarked_Q</th>\n",
       "      <th>Embarked_S</th>\n",
       "    </tr>\n",
       "  </thead>\n",
       "  <tbody>\n",
       "    <tr>\n",
       "      <th>0</th>\n",
       "      <td>0</td>\n",
       "      <td>3</td>\n",
       "      <td>22.0</td>\n",
       "      <td>1</td>\n",
       "      <td>0</td>\n",
       "      <td>7.2500</td>\n",
       "      <td>0</td>\n",
       "      <td>1</td>\n",
       "      <td>0</td>\n",
       "      <td>0</td>\n",
       "      <td>1</td>\n",
       "    </tr>\n",
       "    <tr>\n",
       "      <th>1</th>\n",
       "      <td>1</td>\n",
       "      <td>1</td>\n",
       "      <td>38.0</td>\n",
       "      <td>1</td>\n",
       "      <td>0</td>\n",
       "      <td>71.2833</td>\n",
       "      <td>1</td>\n",
       "      <td>0</td>\n",
       "      <td>1</td>\n",
       "      <td>0</td>\n",
       "      <td>0</td>\n",
       "    </tr>\n",
       "    <tr>\n",
       "      <th>2</th>\n",
       "      <td>1</td>\n",
       "      <td>3</td>\n",
       "      <td>26.0</td>\n",
       "      <td>0</td>\n",
       "      <td>0</td>\n",
       "      <td>7.9250</td>\n",
       "      <td>1</td>\n",
       "      <td>0</td>\n",
       "      <td>0</td>\n",
       "      <td>0</td>\n",
       "      <td>1</td>\n",
       "    </tr>\n",
       "    <tr>\n",
       "      <th>3</th>\n",
       "      <td>1</td>\n",
       "      <td>1</td>\n",
       "      <td>35.0</td>\n",
       "      <td>1</td>\n",
       "      <td>0</td>\n",
       "      <td>53.1000</td>\n",
       "      <td>1</td>\n",
       "      <td>0</td>\n",
       "      <td>0</td>\n",
       "      <td>0</td>\n",
       "      <td>1</td>\n",
       "    </tr>\n",
       "    <tr>\n",
       "      <th>4</th>\n",
       "      <td>0</td>\n",
       "      <td>3</td>\n",
       "      <td>35.0</td>\n",
       "      <td>0</td>\n",
       "      <td>0</td>\n",
       "      <td>8.0500</td>\n",
       "      <td>0</td>\n",
       "      <td>1</td>\n",
       "      <td>0</td>\n",
       "      <td>0</td>\n",
       "      <td>1</td>\n",
       "    </tr>\n",
       "    <tr>\n",
       "      <th>...</th>\n",
       "      <td>...</td>\n",
       "      <td>...</td>\n",
       "      <td>...</td>\n",
       "      <td>...</td>\n",
       "      <td>...</td>\n",
       "      <td>...</td>\n",
       "      <td>...</td>\n",
       "      <td>...</td>\n",
       "      <td>...</td>\n",
       "      <td>...</td>\n",
       "      <td>...</td>\n",
       "    </tr>\n",
       "    <tr>\n",
       "      <th>886</th>\n",
       "      <td>0</td>\n",
       "      <td>2</td>\n",
       "      <td>27.0</td>\n",
       "      <td>0</td>\n",
       "      <td>0</td>\n",
       "      <td>13.0000</td>\n",
       "      <td>0</td>\n",
       "      <td>1</td>\n",
       "      <td>0</td>\n",
       "      <td>0</td>\n",
       "      <td>1</td>\n",
       "    </tr>\n",
       "    <tr>\n",
       "      <th>887</th>\n",
       "      <td>1</td>\n",
       "      <td>1</td>\n",
       "      <td>19.0</td>\n",
       "      <td>0</td>\n",
       "      <td>0</td>\n",
       "      <td>30.0000</td>\n",
       "      <td>1</td>\n",
       "      <td>0</td>\n",
       "      <td>0</td>\n",
       "      <td>0</td>\n",
       "      <td>1</td>\n",
       "    </tr>\n",
       "    <tr>\n",
       "      <th>888</th>\n",
       "      <td>0</td>\n",
       "      <td>3</td>\n",
       "      <td>25.0</td>\n",
       "      <td>1</td>\n",
       "      <td>2</td>\n",
       "      <td>23.4500</td>\n",
       "      <td>1</td>\n",
       "      <td>0</td>\n",
       "      <td>0</td>\n",
       "      <td>0</td>\n",
       "      <td>1</td>\n",
       "    </tr>\n",
       "    <tr>\n",
       "      <th>889</th>\n",
       "      <td>1</td>\n",
       "      <td>1</td>\n",
       "      <td>26.0</td>\n",
       "      <td>0</td>\n",
       "      <td>0</td>\n",
       "      <td>30.0000</td>\n",
       "      <td>0</td>\n",
       "      <td>1</td>\n",
       "      <td>1</td>\n",
       "      <td>0</td>\n",
       "      <td>0</td>\n",
       "    </tr>\n",
       "    <tr>\n",
       "      <th>890</th>\n",
       "      <td>0</td>\n",
       "      <td>3</td>\n",
       "      <td>32.0</td>\n",
       "      <td>0</td>\n",
       "      <td>0</td>\n",
       "      <td>7.7500</td>\n",
       "      <td>0</td>\n",
       "      <td>1</td>\n",
       "      <td>0</td>\n",
       "      <td>1</td>\n",
       "      <td>0</td>\n",
       "    </tr>\n",
       "  </tbody>\n",
       "</table>\n",
       "<p>889 rows × 11 columns</p>\n",
       "</div>"
      ],
      "text/plain": [
       "     Survived  Pclass   Age  SibSp  Parch     Fare  Sex_female  Sex_male  \\\n",
       "0           0       3  22.0      1      0   7.2500           0         1   \n",
       "1           1       1  38.0      1      0  71.2833           1         0   \n",
       "2           1       3  26.0      0      0   7.9250           1         0   \n",
       "3           1       1  35.0      1      0  53.1000           1         0   \n",
       "4           0       3  35.0      0      0   8.0500           0         1   \n",
       "..        ...     ...   ...    ...    ...      ...         ...       ...   \n",
       "886         0       2  27.0      0      0  13.0000           0         1   \n",
       "887         1       1  19.0      0      0  30.0000           1         0   \n",
       "888         0       3  25.0      1      2  23.4500           1         0   \n",
       "889         1       1  26.0      0      0  30.0000           0         1   \n",
       "890         0       3  32.0      0      0   7.7500           0         1   \n",
       "\n",
       "     Embarked_C  Embarked_Q  Embarked_S  \n",
       "0             0           0           1  \n",
       "1             1           0           0  \n",
       "2             0           0           1  \n",
       "3             0           0           1  \n",
       "4             0           0           1  \n",
       "..          ...         ...         ...  \n",
       "886           0           0           1  \n",
       "887           0           0           1  \n",
       "888           0           0           1  \n",
       "889           1           0           0  \n",
       "890           0           1           0  \n",
       "\n",
       "[889 rows x 11 columns]"
      ]
     },
     "execution_count": 61,
     "metadata": {},
     "output_type": "execute_result"
    }
   ],
   "source": [
    "#pd.get_dummies(df_train['Sex'])\n",
    "df_train_dummied=pd.get_dummies(df_train,columns=['Sex'])\n",
    "df_train_dummied=pd.get_dummies(df_train_dummied,columns=['Embarked'])\n",
    "\n",
    "df_train_dummied"
   ]
  },
  {
   "cell_type": "code",
   "execution_count": 62,
   "metadata": {},
   "outputs": [],
   "source": [
    "import matplotlib.pyplot as plt"
   ]
  },
  {
   "cell_type": "code",
   "execution_count": 63,
   "metadata": {},
   "outputs": [
    {
     "data": {
      "text/plain": [
       "<AxesSubplot:>"
      ]
     },
     "execution_count": 63,
     "metadata": {},
     "output_type": "execute_result"
    },
    {
     "data": {
      "image/png": "[encoded data removed]",
      "text/plain": [
       "<Figure size 432x288 with 2 Axes>"
      ]
     },
     "metadata": {
      "needs_background": "light"
     },
     "output_type": "display_data"
    }
   ],
   "source": [
    "import seaborn as sns\n",
    "\n",
    "sns.heatmap(df_train_dummied.corr())"
   ]
  },
  {
   "cell_type": "markdown",
   "metadata": {},
   "source": [
    "***"
   ]
  },
  {
   "cell_type": "code",
   "execution_count": 64,
   "metadata": {},
   "outputs": [],
   "source": [
    "X=df_train_dummied[['Pclass', 'Age', 'SibSp', 'Parch', 'Sex_female', 'Sex_male', 'Embarked_C', 'Embarked_Q', 'Embarked_S']].values\n",
    "y=df_train_dummied['Survived']"
   ]
  },
  {
   "cell_type": "code",
   "execution_count": 65,
   "metadata": {},
   "outputs": [],
   "source": [
    "from sklearn.model_selection import train_test_split\n",
    "Xtrain,Xtest,ytrain,ytest=train_test_split(X,y,test_size=.3,random_state=42)"
   ]
  },
  {
   "cell_type": "code",
   "execution_count": 66,
   "metadata": {},
   "outputs": [],
   "source": [
    "from sklearn.linear_model import LogisticRegression "
   ]
  },
  {
   "cell_type": "code",
   "execution_count": 67,
   "metadata": {},
   "outputs": [],
   "source": [
    "logReg=LogisticRegression()"
   ]
  },
  {
   "cell_type": "code",
   "execution_count": 75,
   "metadata": {},
   "outputs": [
    {
     "data": {
      "text/plain": [
       "623.6999999999999"
      ]
     },
     "execution_count": 75,
     "metadata": {},
     "output_type": "execute_result"
    }
   ],
   "source": [
    "891*.7\n"
   ]
  },
  {
   "cell_type": "code",
   "execution_count": 76,
   "metadata": {},
   "outputs": [
    {
     "data": {
      "text/plain": [
       "267.3"
      ]
     },
     "execution_count": 76,
     "metadata": {},
     "output_type": "execute_result"
    }
   ],
   "source": [
    "891*.3\n"
   ]
  },
  {
   "cell_type": "code",
   "execution_count": 68,
   "metadata": {},
   "outputs": [
    {
     "name": "stderr",
     "output_type": "stream",
     "text": [
      "C:\\Users\\adity\\anaconda3\\lib\\site-packages\\sklearn\\linear_model\\_logistic.py:765: ConvergenceWarning: lbfgs failed to converge (status=1):\n",
      "STOP: TOTAL NO. of ITERATIONS REACHED LIMIT.\n",
      "\n",
      "Increase the number of iterations (max_iter) or scale the data as shown in:\n",
      "    https://scikit-learn.org/stable/modules/preprocessing.html\n",
      "Please also refer to the documentation for alternative solver options:\n",
      "    https://scikit-learn.org/stable/modules/linear_model.html#logistic-regression\n",
      "  extra_warning_msg=_LOGISTIC_SOLVER_CONVERGENCE_MSG)\n"
     ]
    },
    {
     "data": {
      "text/plain": [
       "LogisticRegression()"
      ]
     },
     "execution_count": 68,
     "metadata": {},
     "output_type": "execute_result"
    }
   ],
   "source": [
    "logReg.fit(Xtrain,ytrain)"
   ]
  },
  {
   "cell_type": "markdown",
   "metadata": {},
   "source": [
    "'Pclass', 'Age', 'SibSp', 'Parch', 'Sex_female', 'Sex_male', 'Embarked_C', 'Embarked_Q', 'Embarked_S'"
   ]
  },
  {
   "cell_type": "code",
   "execution_count": 77,
   "metadata": {},
   "outputs": [],
   "source": [
    "predicted=logReg.predict(Xtest)"
   ]
  },
  {
   "cell_type": "code",
   "execution_count": 78,
   "metadata": {},
   "outputs": [],
   "source": [
    "from sklearn.metrics import confusion_matrix\n",
    "from sklearn.metrics import accuracy_score\n",
    "from sklearn.metrics import classification_report"
   ]
  },
  {
   "cell_type": "code",
   "execution_count": 79,
   "metadata": {},
   "outputs": [
    {
     "name": "stdout",
     "output_type": "stream",
     "text": [
      "[[136  31]\n",
      " [ 25  75]]\n"
     ]
    }
   ],
   "source": [
    "cm=confusion_matrix(ytest,predicted)\n",
    "print(cm)"
   ]
  },
  {
   "cell_type": "code",
   "execution_count": 80,
   "metadata": {},
   "outputs": [
    {
     "data": {
      "text/plain": [
       "0.7902621722846442"
      ]
     },
     "execution_count": 80,
     "metadata": {},
     "output_type": "execute_result"
    }
   ],
   "source": [
    "(136+75)/267"
   ]
  },
  {
   "cell_type": "code",
   "execution_count": 30,
   "metadata": {},
   "outputs": [
    {
     "data": {
      "text/plain": [
       "0.797752808988764"
      ]
     },
     "execution_count": 30,
     "metadata": {},
     "output_type": "execute_result"
    }
   ],
   "source": [
    "accuracy_score(ytest,predicted)"
   ]
  },
  {
   "cell_type": "code",
   "execution_count": 31,
   "metadata": {},
   "outputs": [
    {
     "name": "stdout",
     "output_type": "stream",
     "text": [
      "              precision    recall  f1-score   support\n",
      "\n",
      "           0       0.85      0.83      0.84       167\n",
      "           1       0.72      0.75      0.74       100\n",
      "\n",
      "    accuracy                           0.80       267\n",
      "   macro avg       0.78      0.79      0.79       267\n",
      "weighted avg       0.80      0.80      0.80       267\n",
      "\n"
     ]
    }
   ],
   "source": [
    "print(classification_report(ytest,predicted))"
   ]
  },
  {
   "cell_type": "code",
   "execution_count": 32,
   "metadata": {},
   "outputs": [
    {
     "data": {
      "text/plain": [
       "array([[0.90126244, 0.09873756],\n",
       "       [0.04169809, 0.95830191],\n",
       "       [0.20743378, 0.79256622],\n",
       "       [0.75221838, 0.24778162],\n",
       "       [0.03412917, 0.96587083],\n",
       "       [0.89672044, 0.10327956],\n",
       "       [0.70273312, 0.29726688],\n",
       "       [0.86543049, 0.13456951],\n",
       "       [0.07731452, 0.92268548],\n",
       "       [0.033891  , 0.966109  ],\n",
       "       [0.60111406, 0.39888594],\n",
       "       [0.43608961, 0.56391039],\n",
       "       [0.96649361, 0.03350639],\n",
       "       [0.8739563 , 0.1260437 ],\n",
       "       [0.90562571, 0.09437429],\n",
       "       [0.90126244, 0.09873756],\n",
       "       [0.67595094, 0.32404906],\n",
       "       [0.80660092, 0.19339908],\n",
       "       [0.73063286, 0.26936714],\n",
       "       [0.88197065, 0.11802935],\n",
       "       [0.73110934, 0.26889066],\n",
       "       [0.08670427, 0.91329573],\n",
       "       [0.94901571, 0.05098429],\n",
       "       [0.43208067, 0.56791933],\n",
       "       [0.88197065, 0.11802935],\n",
       "       [0.45677957, 0.54322043],\n",
       "       [0.6958229 , 0.3041771 ],\n",
       "       [0.14486593, 0.85513407],\n",
       "       [0.57683282, 0.42316718],\n",
       "       [0.71307654, 0.28692346],\n",
       "       [0.45252373, 0.54747627],\n",
       "       [0.30477185, 0.69522815],\n",
       "       [0.88197065, 0.11802935],\n",
       "       [0.40771491, 0.59228509],\n",
       "       [0.96334112, 0.03665888],\n",
       "       [0.66106292, 0.33893708],\n",
       "       [0.2025845 , 0.7974155 ],\n",
       "       [0.39569238, 0.60430762],\n",
       "       [0.80660092, 0.19339908],\n",
       "       [0.88197065, 0.11802935],\n",
       "       [0.87112038, 0.12887962],\n",
       "       [0.44842875, 0.55157125],\n",
       "       [0.68141757, 0.31858243],\n",
       "       [0.89199454, 0.10800546],\n",
       "       [0.52739243, 0.47260757],\n",
       "       [0.45677957, 0.54322043],\n",
       "       [0.20657545, 0.79342455],\n",
       "       [0.88197065, 0.11802935],\n",
       "       [0.78761095, 0.21238905],\n",
       "       [0.08807316, 0.91192684],\n",
       "       [0.06343143, 0.93656857],\n",
       "       [0.25448969, 0.74551031],\n",
       "       [0.87115083, 0.12884917],\n",
       "       [0.90195379, 0.09804621],\n",
       "       [0.08284449, 0.91715551],\n",
       "       [0.10751682, 0.89248318],\n",
       "       [0.45370448, 0.54629552],\n",
       "       [0.94056634, 0.05943366],\n",
       "       [0.83355214, 0.16644786],\n",
       "       [0.75221838, 0.24778162],\n",
       "       [0.65520743, 0.34479257],\n",
       "       [0.48881813, 0.51118187],\n",
       "       [0.19138139, 0.80861861],\n",
       "       [0.83355214, 0.16644786],\n",
       "       [0.15236785, 0.84763215],\n",
       "       [0.62484445, 0.37515555],\n",
       "       [0.96483521, 0.03516479],\n",
       "       [0.90126244, 0.09873756],\n",
       "       [0.07731452, 0.92268548],\n",
       "       [0.02532565, 0.97467435],\n",
       "       [0.72320182, 0.27679818],\n",
       "       [0.02331597, 0.97668403],\n",
       "       [0.22722248, 0.77277752],\n",
       "       [0.89672044, 0.10327956],\n",
       "       [0.58498445, 0.41501555],\n",
       "       [0.21149492, 0.78850508],\n",
       "       [0.85334655, 0.14665345],\n",
       "       [0.92834336, 0.07165664],\n",
       "       [0.14758147, 0.85241853],\n",
       "       [0.46494449, 0.53505551],\n",
       "       [0.59513418, 0.40486582],\n",
       "       [0.033891  , 0.966109  ],\n",
       "       [0.10508373, 0.89491627],\n",
       "       [0.30477185, 0.69522815],\n",
       "       [0.84798197, 0.15201803],\n",
       "       [0.86434677, 0.13565323],\n",
       "       [0.94842183, 0.05157817],\n",
       "       [0.68141757, 0.31858243],\n",
       "       [0.88707963, 0.11292037],\n",
       "       [0.88197065, 0.11802935],\n",
       "       [0.91383691, 0.08616309],\n",
       "       [0.31748018, 0.68251982],\n",
       "       [0.87115083, 0.12884917],\n",
       "       [0.92139569, 0.07860431],\n",
       "       [0.88197065, 0.11802935],\n",
       "       [0.21157617, 0.78842383],\n",
       "       [0.88197065, 0.11802935],\n",
       "       [0.79585897, 0.20414103],\n",
       "       [0.80708511, 0.19291489],\n",
       "       [0.86434677, 0.13565323],\n",
       "       [0.88707963, 0.11292037],\n",
       "       [0.02916566, 0.97083434],\n",
       "       [0.45847632, 0.54152368],\n",
       "       [0.91769526, 0.08230474],\n",
       "       [0.93769155, 0.06230845],\n",
       "       [0.95081483, 0.04918517],\n",
       "       [0.37396498, 0.62603502],\n",
       "       [0.03061602, 0.96938398],\n",
       "       [0.79051299, 0.20948701],\n",
       "       [0.86543049, 0.13456951],\n",
       "       [0.85949716, 0.14050284],\n",
       "       [0.26667542, 0.73332458],\n",
       "       [0.9628997 , 0.0371003 ],\n",
       "       [0.10826693, 0.89173307],\n",
       "       [0.90552229, 0.09447771],\n",
       "       [0.89393204, 0.10606796],\n",
       "       [0.90979321, 0.09020679],\n",
       "       [0.74277701, 0.25722299],\n",
       "       [0.40970986, 0.59029014],\n",
       "       [0.91890532, 0.08109468],\n",
       "       [0.54494056, 0.45505944],\n",
       "       [0.0591351 , 0.9408649 ],\n",
       "       [0.96127813, 0.03872187],\n",
       "       [0.88197065, 0.11802935],\n",
       "       [0.02953665, 0.97046335],\n",
       "       [0.07299012, 0.92700988],\n",
       "       [0.43208067, 0.56791933],\n",
       "       [0.1291538 , 0.8708462 ],\n",
       "       [0.27393358, 0.72606642],\n",
       "       [0.80382369, 0.19617631],\n",
       "       [0.16574394, 0.83425606],\n",
       "       [0.60111406, 0.39888594],\n",
       "       [0.88361144, 0.11638856],\n",
       "       [0.80660092, 0.19339908],\n",
       "       [0.36232884, 0.63767116],\n",
       "       [0.25057261, 0.74942739],\n",
       "       [0.91383691, 0.08616309],\n",
       "       [0.13397874, 0.86602126],\n",
       "       [0.36419417, 0.63580583],\n",
       "       [0.10394129, 0.89605871],\n",
       "       [0.27409796, 0.72590204],\n",
       "       [0.88197065, 0.11802935],\n",
       "       [0.15894181, 0.84105819],\n",
       "       [0.49668871, 0.50331129],\n",
       "       [0.04974049, 0.95025951],\n",
       "       [0.66379261, 0.33620739],\n",
       "       [0.94840856, 0.05159144],\n",
       "       [0.07299012, 0.92700988],\n",
       "       [0.88197065, 0.11802935],\n",
       "       [0.07014807, 0.92985193],\n",
       "       [0.88197065, 0.11802935],\n",
       "       [0.22134475, 0.77865525],\n",
       "       [0.68135869, 0.31864131],\n",
       "       [0.41960932, 0.58039068],\n",
       "       [0.81733141, 0.18266859],\n",
       "       [0.11527075, 0.88472925],\n",
       "       [0.45252373, 0.54747627],\n",
       "       [0.91142123, 0.08857877],\n",
       "       [0.9090292 , 0.0909708 ],\n",
       "       [0.08564773, 0.91435227],\n",
       "       [0.92197779, 0.07802221],\n",
       "       [0.02679982, 0.97320018],\n",
       "       [0.91769526, 0.08230474],\n",
       "       [0.86434677, 0.13565323],\n",
       "       [0.74829753, 0.25170247],\n",
       "       [0.50132286, 0.49867714],\n",
       "       [0.12363079, 0.87636921],\n",
       "       [0.87115083, 0.12884917],\n",
       "       [0.92834336, 0.07165664],\n",
       "       [0.20525679, 0.79474321],\n",
       "       [0.13397874, 0.86602126],\n",
       "       [0.31006488, 0.68993512],\n",
       "       [0.17102377, 0.82897623],\n",
       "       [0.84037764, 0.15962236],\n",
       "       [0.27578199, 0.72421801],\n",
       "       [0.62348275, 0.37651725],\n",
       "       [0.73296957, 0.26703043],\n",
       "       [0.22350286, 0.77649714],\n",
       "       [0.04041941, 0.95958059],\n",
       "       [0.30149269, 0.69850731],\n",
       "       [0.91769526, 0.08230474],\n",
       "       [0.932472  , 0.067528  ],\n",
       "       [0.97279451, 0.02720549],\n",
       "       [0.47292969, 0.52707031],\n",
       "       [0.87115083, 0.12884917],\n",
       "       [0.90126244, 0.09873756],\n",
       "       [0.88197065, 0.11802935],\n",
       "       [0.57683282, 0.42316718],\n",
       "       [0.74277701, 0.25722299],\n",
       "       [0.86633552, 0.13366448],\n",
       "       [0.93513748, 0.06486252],\n",
       "       [0.90552229, 0.09447771],\n",
       "       [0.30477185, 0.69522815],\n",
       "       [0.9012383 , 0.0987617 ],\n",
       "       [0.89276902, 0.10723098],\n",
       "       [0.81912329, 0.18087671],\n",
       "       [0.87115083, 0.12884917],\n",
       "       [0.14200133, 0.85799867],\n",
       "       [0.54184451, 0.45815549],\n",
       "       [0.63915787, 0.36084213],\n",
       "       [0.93202299, 0.06797701],\n",
       "       [0.40970986, 0.59029014],\n",
       "       [0.68135869, 0.31864131],\n",
       "       [0.94591902, 0.05408098],\n",
       "       [0.84037764, 0.15962236],\n",
       "       [0.77176865, 0.22823135],\n",
       "       [0.89199454, 0.10800546],\n",
       "       [0.80660092, 0.19339908],\n",
       "       [0.02532565, 0.97467435],\n",
       "       [0.39569238, 0.60430762],\n",
       "       [0.90981547, 0.09018453],\n",
       "       [0.78025309, 0.21974691],\n",
       "       [0.86434677, 0.13565323],\n",
       "       [0.43208067, 0.56791933],\n",
       "       [0.89545167, 0.10454833],\n",
       "       [0.92832532, 0.07167468],\n",
       "       [0.22707742, 0.77292258],\n",
       "       [0.82645615, 0.17354385],\n",
       "       [0.88197065, 0.11802935],\n",
       "       [0.3708769 , 0.6291231 ],\n",
       "       [0.90126244, 0.09873756],\n",
       "       [0.15894181, 0.84105819],\n",
       "       [0.12363079, 0.87636921],\n",
       "       [0.31748018, 0.68251982],\n",
       "       [0.36226618, 0.63773382],\n",
       "       [0.74277701, 0.25722299],\n",
       "       [0.57683282, 0.42316718],\n",
       "       [0.21577876, 0.78422124],\n",
       "       [0.36232884, 0.63767116],\n",
       "       [0.04089554, 0.95910446],\n",
       "       [0.30477185, 0.69522815],\n",
       "       [0.86434677, 0.13565323],\n",
       "       [0.86543049, 0.13456951],\n",
       "       [0.99504231, 0.00495769],\n",
       "       [0.86434677, 0.13565323],\n",
       "       [0.86434677, 0.13565323],\n",
       "       [0.52291354, 0.47708646],\n",
       "       [0.01732224, 0.98267776],\n",
       "       [0.87663333, 0.12336667],\n",
       "       [0.95915512, 0.04084488],\n",
       "       [0.36413138, 0.63586862],\n",
       "       [0.80660092, 0.19339908],\n",
       "       [0.04974049, 0.95025951],\n",
       "       [0.92197779, 0.07802221],\n",
       "       [0.78341959, 0.21658041],\n",
       "       [0.67952182, 0.32047818],\n",
       "       [0.30477185, 0.69522815],\n",
       "       [0.75221838, 0.24778162],\n",
       "       [0.73305046, 0.26694954],\n",
       "       [0.87115083, 0.12884917],\n",
       "       [0.84693947, 0.15306053],\n",
       "       [0.88197065, 0.11802935],\n",
       "       [0.79051299, 0.20948701],\n",
       "       [0.07999593, 0.92000407],\n",
       "       [0.85334655, 0.14665345],\n",
       "       [0.51382594, 0.48617406],\n",
       "       [0.77346265, 0.22653735],\n",
       "       [0.21995795, 0.78004205],\n",
       "       [0.70273312, 0.29726688],\n",
       "       [0.88194241, 0.11805759],\n",
       "       [0.8346306 , 0.1653694 ],\n",
       "       [0.93770739, 0.06229261],\n",
       "       [0.88197065, 0.11802935],\n",
       "       [0.36042373, 0.63957627],\n",
       "       [0.81428536, 0.18571464],\n",
       "       [0.64976539, 0.35023461],\n",
       "       [0.45252373, 0.54747627]])"
      ]
     },
     "execution_count": 32,
     "metadata": {},
     "output_type": "execute_result"
    }
   ],
   "source": [
    "logReg.predict_proba(Xtest)"
   ]
  },
  {
   "cell_type": "code",
   "execution_count": 33,
   "metadata": {},
   "outputs": [
    {
     "data": {
      "text/plain": [
       "0.797752808988764"
      ]
     },
     "execution_count": 33,
     "metadata": {},
     "output_type": "execute_result"
    }
   ],
   "source": [
    "logReg.score(Xtest,ytest)"
   ]
  },
  {
   "cell_type": "code",
   "execution_count": null,
   "metadata": {},
   "outputs": [],
   "source": []
  }
 ],
 "metadata": {
  "kernelspec": {
   "display_name": "Python 3",
   "language": "python",
   "name": "python3"
  },
  "language_info": {
   "codemirror_mode": {
    "name": "ipython",
    "version": 3
   },
   "file_extension": ".py",
   "mimetype": "text/x-python",
   "name": "python",
   "nbconvert_exporter": "python",
   "pygments_lexer": "ipython3",
   "version": "3.7.6"
  }
 },
 "nbformat": 4,
 "nbformat_minor": 4
}
